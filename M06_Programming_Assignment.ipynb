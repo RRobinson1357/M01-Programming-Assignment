{
 "cells": [
  {
   "cell_type": "code",
   "execution_count": 4,
   "id": "740c44b4-7328-43ed-a81d-b3cd907d66f3",
   "metadata": {},
   "outputs": [],
   "source": [
    "#13.1 - 13.3 Create a text file with the date called today.txt"
   ]
  },
  {
   "cell_type": "code",
   "execution_count": 5,
   "id": "2276600f-994f-4457-9f5b-fc52b9ccad3e",
   "metadata": {},
   "outputs": [
    {
     "data": {
      "text/plain": [
       "('2024-07-16', '2024-07-16', datetime.datetime(2024, 7, 16, 0, 0))"
      ]
     },
     "execution_count": 5,
     "metadata": {},
     "output_type": "execute_result"
    }
   ],
   "source": [
    "from datetime import datetime\n",
    "\n",
    "# Step 1: Write the current date as a string to the text file today.txt\n",
    "current_date = datetime.now().strftime(\"%Y-%m-%d\")\n",
    "with open('today.txt', 'w') as file:\n",
    "    file.write(current_date)\n",
    "\n",
    "# Step 2: Read the text file today.txt into the string today_string\n",
    "with open('today.txt', 'r') as file:\n",
    "    today_string = file.read()\n",
    "\n",
    "# Step 3: Parse the date from today_string\n",
    "parsed_date = datetime.strptime(today_string, \"%Y-%m-%d\")\n",
    "\n",
    "(current_date, today_string, parsed_date)\n"
   ]
  },
  {
   "cell_type": "code",
   "execution_count": 6,
   "id": "f1480012-c885-404f-a1d9-212a8c25873b",
   "metadata": {},
   "outputs": [],
   "source": [
    "#========================================================================================================================================================="
   ]
  },
  {
   "cell_type": "code",
   "execution_count": 9,
   "id": "4f3c637d-61dc-481d-9b04-e1abf3b33c83",
   "metadata": {},
   "outputs": [],
   "source": [
    "#15.1"
   ]
  },
  {
   "cell_type": "code",
   "execution_count": 10,
   "id": "72257126-114f-4dbd-b88e-29c3ef92fc10",
   "metadata": {},
   "outputs": [],
   "source": [
    "import multiprocessing\n",
    "import time\n",
    "import random\n",
    "from datetime import datetime\n",
    "\n",
    "def worker():\n",
    "    wait_time = random.uniform(0, 1)\n",
    "    time.sleep(wait_time)\n",
    "    print(f\"Process {multiprocessing.current_process().name} - Time: {datetime.now().strftime('%Y-%m-%d %H:%M:%S.%f')}\")\n",
    "\n",
    "if __name__ == \"__main__\":\n",
    "    processes = []\n",
    "    \n",
    "    for i in range(3):\n",
    "        process = multiprocessing.Process(target=worker, name=f\"Worker-{i+1}\")\n",
    "        processes.append(process)\n",
    "        process.start()\n",
    "    \n",
    "    for process in processes:\n",
    "        process.join()\n",
    "\n",
    "#if done correctly the three workers will print the time at random intervals"
   ]
  },
  {
   "cell_type": "code",
   "execution_count": null,
   "id": "cf723167-1f07-4634-ac54-e56d2eb7e05d",
   "metadata": {},
   "outputs": [],
   "source": []
  }
 ],
 "metadata": {
  "kernelspec": {
   "display_name": "Python 3 (ipykernel)",
   "language": "python",
   "name": "python3"
  },
  "language_info": {
   "codemirror_mode": {
    "name": "ipython",
    "version": 3
   },
   "file_extension": ".py",
   "mimetype": "text/x-python",
   "name": "python",
   "nbconvert_exporter": "python",
   "pygments_lexer": "ipython3",
   "version": "3.11.7"
  }
 },
 "nbformat": 4,
 "nbformat_minor": 5
}
