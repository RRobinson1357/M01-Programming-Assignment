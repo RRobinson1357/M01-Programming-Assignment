{
 "cells": [
  {
   "cell_type": "code",
   "execution_count": 5,
   "id": "35ff9bb1-fc52-4d1d-a7e5-45613b88dc39",
   "metadata": {},
   "outputs": [
    {
     "data": {
      "text/plain": [
       "['mozzarella', 'cinderella', 'salmonella']"
      ]
     },
     "execution_count": 5,
     "metadata": {},
     "output_type": "execute_result"
    }
   ],
   "source": [
    "Things = 'mozzarella/cinderella/salmonella'\n",
    "Things.split('/')"
   ]
  },
  {
   "cell_type": "code",
   "execution_count": 9,
   "id": "0172a62a-93ee-4ac2-a4b2-e8e7820b2f22",
   "metadata": {},
   "outputs": [
    {
     "name": "stdout",
     "output_type": "stream",
     "text": [
      "['mozzarella', 'Cinderella', 'salmonella']\n"
     ]
    }
   ],
   "source": [
    "Things = ['mozzarella', 'cinderella', 'salmonella']\n",
    "Things[1] = Things[1].capitalize()\n",
    "print(Things)"
   ]
  },
  {
   "cell_type": "code",
   "execution_count": 10,
   "id": "c760a67b-6fa0-4cf5-944b-dd25e463e7e5",
   "metadata": {},
   "outputs": [
    {
     "name": "stdout",
     "output_type": "stream",
     "text": [
      "['MOZZARELLA', 'Cinderella', 'salmonella']\n"
     ]
    }
   ],
   "source": [
    "Things = ['mozzarella', 'cinderella', 'salmonella']\n",
    "Things[1] = Things[1].capitalize()\n",
    "Things[0] = Things[0].upper()\n",
    "print(Things)"
   ]
  },
  {
   "cell_type": "code",
   "execution_count": 11,
   "id": "984efff0-adbe-4d57-a2a2-ea7494140e12",
   "metadata": {},
   "outputs": [
    {
     "name": "stdout",
     "output_type": "stream",
     "text": [
      "['MOZZARELLA', 'Cinderella']\n"
     ]
    }
   ],
   "source": [
    "Things = ['mozzarella', 'cinderella', 'salmonella']\n",
    "Things[1] = Things[1].capitalize()\n",
    "Things[0] = Things[0].upper()\n",
    "del Things[2]\n",
    "print(Things)"
   ]
  },
  {
   "cell_type": "code",
   "execution_count": 12,
   "id": "89fa7277-3bf4-4246-ab07-e06983aa8f5b",
   "metadata": {},
   "outputs": [
    {
     "name": "stdout",
     "output_type": "stream",
     "text": [
      "['Harry', 'Ron', 'Hermione']\n"
     ]
    }
   ],
   "source": [
    "def good():\n",
    "    return ['Harry', 'Ron', 'Hermione']\n",
    "\n",
    "print(good())"
   ]
  },
  {
   "cell_type": "code",
   "execution_count": 22,
   "id": "39ba1f2e-a4ad-48dc-a6d5-1d423803cec6",
   "metadata": {},
   "outputs": [
    {
     "name": "stdout",
     "output_type": "stream",
     "text": [
      "5\n"
     ]
    }
   ],
   "source": [
    "def get_odds():\n",
    "    for i in range(10):\n",
    "        if i % 2 != 0:\n",
    "            yield i\n",
    "\n",
    "n = 0\n",
    "for Numbers in get_odds():\n",
    "    n += 1\n",
    "    if n == 3:\n",
    "        print(Numbers)\n",
    "        break"
   ]
  },
  {
   "cell_type": "code",
   "execution_count": null,
   "id": "1ca2030a-3e14-4ec3-b161-926e94dd7c8d",
   "metadata": {},
   "outputs": [],
   "source": []
  }
 ],
 "metadata": {
  "kernelspec": {
   "display_name": "Python 3 (ipykernel)",
   "language": "python",
   "name": "python3"
  },
  "language_info": {
   "codemirror_mode": {
    "name": "ipython",
    "version": 3
   },
   "file_extension": ".py",
   "mimetype": "text/x-python",
   "name": "python",
   "nbconvert_exporter": "python",
   "pygments_lexer": "ipython3",
   "version": "3.11.7"
  }
 },
 "nbformat": 4,
 "nbformat_minor": 5
}
