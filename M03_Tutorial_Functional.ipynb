{
 "cells": [
  {
   "cell_type": "code",
   "execution_count": null,
   "id": "bf82d6f4-2048-43a6-a55f-7747fc051dcf",
   "metadata": {},
   "outputs": [],
   "source": [
    "class Solution:\n",
    "    # Function to perform binary search recursively\n",
    "    def bin_search(self, arr, left, right, k):\n",
    "        if left > right:\n",
    "            return -1  # If left pointer exceeds right pointer, element not found\n",
    "        mid = (left + right) // 2  # Calculate mid index\n",
    "        if arr[mid] == k:\n",
    "            return mid  # If element is found at mid index, return index\n",
    "        if arr[mid] > k:\n",
    "            return self.bin_search(\n",
    "                arr, left, mid - 1, k\n",
    "            )  # If element is less than mid, perform binary search on left subarray\n",
    "        else:\n",
    "            return self.bin_search(\n",
    "                arr, mid + 1, right, k\n",
    "            )  # If element is greater than mid, perform binary search on right subarray\n",
    "\n",
    "    # Function to call the binary search function\n",
    "    def binarysearch(self, arr, k):\n",
    "        n = len(arr)\n",
    "        return self.bin_search(arr, 0, n - 1,\n",
    "                               k)  # Perform binary search on the entire array"
   ]
  }
 ],
 "metadata": {
  "kernelspec": {
   "display_name": "Python 3 (ipykernel)",
   "language": "python",
   "name": "python3"
  },
  "language_info": {
   "codemirror_mode": {
    "name": "ipython",
    "version": 3
   },
   "file_extension": ".py",
   "mimetype": "text/x-python",
   "name": "python",
   "nbconvert_exporter": "python",
   "pygments_lexer": "ipython3",
   "version": "3.11.7"
  }
 },
 "nbformat": 4,
 "nbformat_minor": 5
}
