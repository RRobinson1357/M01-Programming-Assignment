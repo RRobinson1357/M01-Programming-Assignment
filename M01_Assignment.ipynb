{
 "cells": [
  {
   "cell_type": "code",
   "execution_count": 2,
   "id": "0f792901-5c6f-4ee6-9d0f-48fd36b835d2",
   "metadata": {},
   "outputs": [
    {
     "name": "stdout",
     "output_type": "stream",
     "text": [
      "3600\n"
     ]
    }
   ],
   "source": [
    "seconds_in_minute = 60\n",
    "minutes_in_hour = 60\n",
    "\n",
    "seconds_in_hour = seconds_in_minute * minutes_in_hour\n",
    "\n",
    "print (seconds_in_hour)"
   ]
  },
  {
   "cell_type": "code",
   "execution_count": 5,
   "id": "75278996-a65b-4a4c-945e-d01d25c97aac",
   "metadata": {},
   "outputs": [
    {
     "name": "stdout",
     "output_type": "stream",
     "text": [
      "86400\n"
     ]
    }
   ],
   "source": [
    "seconds_per_hour = 3600\n",
    "\n",
    "\n",
    "print(seconds_per_hour * 24)\n"
   ]
  },
  {
   "cell_type": "code",
   "execution_count": 6,
   "id": "1b69682e-8fb4-443b-8672-58a8c1137e81",
   "metadata": {},
   "outputs": [
    {
     "name": "stdout",
     "output_type": "stream",
     "text": [
      "3600.0\n"
     ]
    }
   ],
   "source": [
    "seconds_per_day = 86400\n",
    "seconds_per_hour = 24\n",
    "\n",
    "print(seconds_per_day / seconds_per_hour)\n"
   ]
  },
  {
   "cell_type": "code",
   "execution_count": 7,
   "id": "7365300b-2365-49c4-8a83-7ca6237786ab",
   "metadata": {},
   "outputs": [
    {
     "name": "stdout",
     "output_type": "stream",
     "text": [
      "3600\n"
     ]
    }
   ],
   "source": [
    "seconds_per_day = 86400\n",
    "seconds_per_hour = 24\n",
    "\n",
    "print(seconds_per_day // seconds_per_hour)"
   ]
  },
  {
   "cell_type": "code",
   "execution_count": null,
   "id": "859f464a-393c-4623-b6f2-e45e57382292",
   "metadata": {},
   "outputs": [],
   "source": []
  }
 ],
 "metadata": {
  "kernelspec": {
   "display_name": "Python 3 (ipykernel)",
   "language": "python",
   "name": "python3"
  },
  "language_info": {
   "codemirror_mode": {
    "name": "ipython",
    "version": 3
   },
   "file_extension": ".py",
   "mimetype": "text/x-python",
   "name": "python",
   "nbconvert_exporter": "python",
   "pygments_lexer": "ipython3",
   "version": "3.11.7"
  }
 },
 "nbformat": 4,
 "nbformat_minor": 5
}
