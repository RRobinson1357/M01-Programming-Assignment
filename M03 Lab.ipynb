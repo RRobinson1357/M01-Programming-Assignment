{
 "cells": [
  {
   "cell_type": "code",
   "execution_count": 10,
   "id": "c022fc85-bba2-43a8-9901-e812b53396f3",
   "metadata": {},
   "outputs": [
    {
     "name": "stdin",
     "output_type": "stream",
     "text": [
      "Enter the make:  honda\n",
      "Enter the year: 2000\n",
      "Enter the model:  accord\n",
      "Enter the number of doors (2 or 4):  4\n",
      "Enter the type of roof (solid or sun roof):  sun roof\n"
     ]
    },
    {
     "name": "stdout",
     "output_type": "stream",
     "text": [
      "\n",
      "Vehicle Information:\n",
      "  Vehicle type: car\n",
      "  Make: honda\n",
      "  Year: 2000\n",
      "  Model: accord\n",
      "  Number of doors: 4\n",
      "  Type of roof: sun roof\n"
     ]
    }
   ],
   "source": [
    "class Vehicle():\n",
    "    def __init__(self, vehicle_type):\n",
    "        self.vehicle_type = vehicle_type\n",
    "\n",
    "class Automobile(Vehicle):\n",
    "    def __init__(self, vehicle_type, make, year, model, doors, roof):\n",
    "        super().__init__(vehicle_type)\n",
    "        self.make = make\n",
    "        self.year = year\n",
    "        self.model = model\n",
    "        self.doors = doors\n",
    "        self.roof = roof\n",
    "\n",
    "def main():\n",
    "    vehicle_type = \"car\"\n",
    "    make = input(\"Enter the make: \")\n",
    "    year = input(\"Enter the year:\")\n",
    "    model = input(\"Enter the model: \")\n",
    "    doors = input(\"Enter the number of doors (2 or 4): \")\n",
    "    roof = input(\"Enter the type of roof (solid or sun roof): \")\n",
    "\n",
    "    car = Automobile(vehicle_type, make, year, model, doors, roof)\n",
    "\n",
    "    print(\"\\nVehicle Information:\")\n",
    "    print(f\"  Vehicle type: {car.vehicle_type}\")\n",
    "    print(f\"  Make: {car.make}\")\n",
    "    print(f\"  Year: {car.year}\")\n",
    "    print(f\"  Model: {car.model}\")\n",
    "    print(f\"  Number of doors: {car.doors}\")\n",
    "    print(f\"  Type of roof: {car.roof}\")\n",
    "\n",
    "if __name__ == \"__main__\":\n",
    "    main()"
   ]
  },
  {
   "cell_type": "code",
   "execution_count": null,
   "id": "6a9da454-45e1-487d-b7f6-29bcd3977be5",
   "metadata": {},
   "outputs": [],
   "source": []
  }
 ],
 "metadata": {
  "kernelspec": {
   "display_name": "Python 3 (ipykernel)",
   "language": "python",
   "name": "python3"
  },
  "language_info": {
   "codemirror_mode": {
    "name": "ipython",
    "version": 3
   },
   "file_extension": ".py",
   "mimetype": "text/x-python",
   "name": "python",
   "nbconvert_exporter": "python",
   "pygments_lexer": "ipython3",
   "version": "3.11.7"
  }
 },
 "nbformat": 4,
 "nbformat_minor": 5
}
