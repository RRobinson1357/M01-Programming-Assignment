{
 "cells": [
  {
   "cell_type": "code",
   "execution_count": 2,
   "id": "54b095e6-2bd7-4c48-96a5-a9fbf51707af",
   "metadata": {},
   "outputs": [],
   "source": [
    "# zoo.py\n",
    "def hours():\n",
    "    print(\"Open 9-5 daily\")"
   ]
  },
  {
   "cell_type": "code",
   "execution_count": 3,
   "id": "60041583-fd03-4b6f-9d3e-74435a43bbdd",
   "metadata": {},
   "outputs": [],
   "source": [
    "#in command line\n",
    "\n",
    "#import zoo\n",
    "#zoo.hours()\n",
    "#Open 9-5 daily"
   ]
  },
  {
   "cell_type": "code",
   "execution_count": null,
   "id": "3ecaea9f-a1c3-4595-87bc-87c5b3add960",
   "metadata": {},
   "outputs": [],
   "source": [
    "#in command line\n",
    "\n",
    "#import zoo as managerie\n",
    "#managerie.hours()\n",
    "#Open 9-5 daily"
   ]
  },
  {
   "cell_type": "code",
   "execution_count": null,
   "id": "8e004ae4-2070-4803-a8f2-40aa246a58bd",
   "metadata": {},
   "outputs": [],
   "source": []
  }
 ],
 "metadata": {
  "kernelspec": {
   "display_name": "Python 3 (ipykernel)",
   "language": "python",
   "name": "python3"
  },
  "language_info": {
   "codemirror_mode": {
    "name": "ipython",
    "version": 3
   },
   "file_extension": ".py",
   "mimetype": "text/x-python",
   "name": "python",
   "nbconvert_exporter": "python",
   "pygments_lexer": "ipython3",
   "version": "3.11.7"
  }
 },
 "nbformat": 4,
 "nbformat_minor": 5
}
